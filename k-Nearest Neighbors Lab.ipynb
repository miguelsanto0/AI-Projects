{
 "cells": [
  {
   "cell_type": "markdown",
   "metadata": {
    "id": "DVL7_bgmIAPR"
   },
   "source": [
    "# K-Nearest Neighbor Lab\n",
    "\n",
    "\n",
    "\n"
   ]
  },
  {
   "cell_type": "code",
   "execution_count": 21,
   "metadata": {
    "id": "6ZbYjZZZ_yLV"
   },
   "outputs": [],
   "source": [
    "from sklearn.base import BaseEstimator, ClassifierMixin\n",
    "from sklearn.neighbors import KNeighborsClassifier, KNeighborsRegressor\n",
    "import numpy as np\n",
    "import scipy.io.arff as arff\n",
    "import pandas as pd\n",
    "import matplotlib.pyplot as plt\n",
    "from sklearn.model_selection import train_test_split\n",
    "from sklearn.preprocessing import LabelEncoder\n"
   ]
  },
  {
   "cell_type": "markdown",
   "metadata": {
    "id": "sCcEPx5VIORj"
   },
   "source": [
    "## 1. (40%) Correctly implement the k-nearest neighbor (KNN) algorithm and the KNN regression algorithm\n",
    "\n",
    "### Code requirements\n",
    "- Use Euclidean distance to decide closest neighbors. \n",
    "- Include optional distance weighting for both algorithms\n"
   ]
  },
  {
   "cell_type": "code",
   "execution_count": 22,
   "metadata": {
    "id": "_a2KSZ_7AN0G"
   },
   "outputs": [],
   "source": [
    "class KNNClassifier(BaseEstimator,ClassifierMixin):\n",
    "    def __init__(self, columntype=[], regression = False, weight_type='inverse_distance', num_neighbour=5): ## add parameters here\n",
    "        \"\"\"\n",
    "        Args:\n",
    "            columntype for each column tells you if continues[real] or if nominal[categoritcal].\n",
    "            weight_type: inverse_distance voting or if non distance weighting. Options = [\"no_weight\",\"inverse_distance\"]\n",
    "        \"\"\"\n",
    "        self.columntype = columntype #Note This won't be needed until part 5\n",
    "        self.weight_type = weight_type\n",
    "        self.num_neighbour = num_neighbour\n",
    "        self.regression = regression\n",
    "       \n",
    "\n",
    "\n",
    "\n",
    "    def fit(self, data, labels,Normalize=False):\n",
    "        \"\"\" Fit the data; run the algorithm (for this lab really just saves the data :D)\n",
    "        Args:\n",
    "            X (array-like): A 2D numpy array with the training data, excluding targets\n",
    "            y (array-like): A 2D numpy array with the training targets\n",
    "        Returns:\n",
    "            self: this allows this to be chained, e.g. model.fit(X,y).predict(X_test)\n",
    "        \"\"\"\n",
    "        # Make a deep copy of the data\n",
    "        self.data = np.copy(data)\n",
    "        self.labels = np.copy(labels)\n",
    "        #if normalize\n",
    "\n",
    "        # Normalize the data using column-wise mins and maxes\n",
    "        if(Normalize):\n",
    "            self.min_vals = np.min(self.data, axis=0)\n",
    "            self.max_vals = np.max(self.data, axis=0)\n",
    "\n",
    "            self.data = (self.data - self.min_vals) / (self.max_vals - self.min_vals)\n",
    "        return self\n",
    "    \n",
    "    def predict(self, data, Normalize=False):\n",
    "        \"\"\" Predict all classes for a dataset X\n",
    "        Args:\n",
    "            X (array-like): A 2D numpy array with the training data, excluding targets\n",
    "        Returns:\n",
    "            array, shape (n_samples,)\n",
    "                Predicted target values per element in X.\n",
    "        \"\"\"\n",
    "        predictions = []\n",
    "        #if normalize\n",
    "        if(Normalize):\n",
    "            data = (data - self.min_vals) / (self.max_vals - self.min_vals)\n",
    "        \n",
    "        for row in data:\n",
    "            # Calculate distances between this row and the data saved in fit\n",
    "            distances =  np.array([self.heom_distance(row, data_point, self.columntype) for data_point in self.data])\n",
    "            k_indices = np.argsort(distances)[:self.num_neighbour]\n",
    "            # Sort distances and grab the k nearest neighbors\n",
    "            #argsort\n",
    "            k_nearest_labels = self.labels[k_indices]\n",
    "            # Figure out the vote of the kNN\n",
    "            if self.regression:\n",
    "                if self.weight_type == \"inverse_distance\":\n",
    "                    weights = 1 / (distances[k_indices] ** 2 + 1e-10)\n",
    "                    vote = np.sum(weights * k_nearest_labels) / np.sum(weights)\n",
    "                else:\n",
    "                    vote = np.mean(k_nearest_labels.astype(float))\n",
    "            else:\n",
    "                if self.weight_type == \"inverse_distance\":\n",
    "                    weights = 1 / (distances[k_indices] ** 2 + 1e-10)\n",
    "                    label_weights = {}\n",
    "                    for i, label in enumerate(k_nearest_labels):\n",
    "                        label_tuple = tuple(label)\n",
    "                        if label_tuple not in label_weights:\n",
    "                            label_weights[label_tuple] = 0\n",
    "                            \n",
    "                        label_weights[label_tuple] += weights[i]\n",
    "                    \n",
    "                    vote = max(label_weights, key=label_weights.get)\n",
    "                else:\n",
    "                    unique_labels, counts = np.unique(k_nearest_labels, return_counts=True, axis=0)\n",
    "                    vote = unique_labels[np.argmax(counts)]\n",
    "           \n",
    "            \n",
    "            # Append to prediction list\n",
    "            predictions.append(vote)\n",
    "        \n",
    "        # Return all predictions\n",
    "        return np.array(predictions)\n",
    "    \n",
    "    #Returns the Mean score given input data and labels\n",
    "    def score(self, X, y,mse=False,Normalize=False):\n",
    "        \"\"\" Return accuracy of model on a given dataset. Must implement own score function.\n",
    "        Args:\n",
    "            X (array-like): A 2D numpy array with data, excluding targets\n",
    "            y (array-like): A 2D numpy array with targets\n",
    "        Returns:\n",
    "            score : float\n",
    "                Mean accuracy of self.predict(X) wrt. y.\n",
    "        \"\"\"\n",
    "        predictions = self.predict(X,Normalize)\n",
    "        #print(y)\n",
    "    \n",
    "        if mse:\n",
    "            sse = 0\n",
    "            for i in range(len(predictions)):\n",
    "                sse += ((float(predictions[i]) - (float(y[i][0])))**2)\n",
    "            return sse / len(predictions)\n",
    "            #return np.square(np.subtract(y,predictions)).mean()\n",
    "        else:\n",
    "            return np.mean(predictions == y)\n",
    "    \n",
    "    def heom_distance(self, x, y, column_types):\n",
    "        distance = 0\n",
    "        for i, column_type in enumerate(column_types):\n",
    "            if x[i] == \"?\" or y[i] == \"?\":\n",
    "                continue\n",
    "            if column_type == \"continuous\":\n",
    "                distance += (x[i] - y[i]) ** 2\n",
    "            else:\n",
    "                distance += 1 if x[i] != y[i] else 0\n",
    "        return np.sqrt(distance)"
   ]
  },
  {
   "cell_type": "markdown",
   "metadata": {},
   "source": [
    "## 1.1 Debug and Evaluation\n",
    "\n",
    "Debug and Evaluate your model using the parameters below:\n",
    "\n",
    "- Use distance weighting\n",
    "- KNN = 3 (three nearest neighbors)\n",
    "- Don’t normalize the data\n",
    "- Use Euclidean Distance\n",
    "\n",
    "---\n",
    "\n",
    "### 1.1.1 Debug\n",
    "\n",
    "- Use this [glass training set](https://byu.instructure.com/courses/14142/files?preview=4660939) and this [glass test set](https://byu.instructure.com/courses/14142/files?preview=4660941)\n",
    "- Use distance weighting\n",
    "- KNN = 3 (three nearest neighbors)\n",
    "- Don’t normalize the data\n",
    "- Use Euclidean Distance\n",
    "\n",
    "Expected Results:\n",
    "- Not using inverse weighted distancing = roughly [68.29%]\n",
    "- Link to [glass no_inverse debug solution](https://byu.instructure.com/courses/14142/files?preview=4660947)\n",
    "\n",
    "- Using inverse weighted distancing = roughly [74.39%]\n",
    "- Link to [glass inverse debug solution](https://byu.instructure.com/courses/14142/files?preview=4660954)\n"
   ]
  },
  {
   "cell_type": "code",
   "execution_count": 71,
   "metadata": {},
   "outputs": [
    {
     "name": "stdout",
     "output_type": "stream",
     "text": [
      "KNNClassifier(num_neighbour=3)\n",
      "0.7439024390243902\n",
      "KNNClassifier(num_neighbour=3, weight_type='distance')\n",
      "0.6829268292682927\n"
     ]
    }
   ],
   "source": [
    "# Load glass data\n",
    "\n",
    "# Train on training set\n",
    "\n",
    "# Predict on test set\n",
    "mat, meta = arff.loadarff('glass_train.arff')\n",
    "mat = mat.tolist()\n",
    "labels = []\n",
    "data = []\n",
    "for i in range(len(mat)):\n",
    "    labels.append([mat[i][-1]])\n",
    "    data.append(mat[i][:-1])\n",
    "mat, meta = arff.loadarff('glass_test.arff')\n",
    "mat = mat.tolist()\n",
    "labels_test = []\n",
    "data_test = []\n",
    "for i in range(len(mat)):\n",
    "    labels_test.append([mat[i][-1]])\n",
    "    data_test.append(mat[i][:-1])\n",
    "\n",
    "\n",
    "KNN = KNNClassifier(weight_type='inverse_distance', num_neighbour=3, regression=False)\n",
    "data = np.array(data)\n",
    "labels = np.array(labels)\n",
    "data_test = np.array(data_test)\n",
    "labels_test = np.array(labels_test)\n",
    "print(KNN.fit(data, labels,Normalize=False))\n",
    "print(KNN.score(data_test, labels_test, mse=False,Normalize=False))\n",
    "\n",
    "KNN = KNNClassifier(weight_type='distance', num_neighbour=3, regression=False)\n",
    "data = np.array(data)\n",
    "labels = np.array(labels)\n",
    "data_test = np.array(data_test)\n",
    "labels_test = np.array(labels_test)\n",
    "print(KNN.fit(data, labels,Normalize=False))\n",
    "print(KNN.score(data_test, labels_test, mse=False,Normalize=False))\n",
    "\n",
    "\n"
   ]
  },
  {
   "cell_type": "markdown",
   "metadata": {},
   "source": [
    "### 1.1.2 Evaluate\n",
    "\n",
    "We will evaluate your model based on its performance on the [diabetes](https://archive.ics.uci.edu/ml/datasets/Diabetes) problem.\n",
    "- Use this [diabetes training set](https://byu.instructure.com/courses/14142/files?preview=4660977) and this [diabetes test set](https://byu.instructure.com/courses/14142/files?preview=4660978)"
   ]
  },
  {
   "cell_type": "code",
   "execution_count": 73,
   "metadata": {},
   "outputs": [
    {
     "name": "stdout",
     "output_type": "stream",
     "text": [
      "KNNClassifier(num_neighbour=3)\n",
      "0.890625\n"
     ]
    }
   ],
   "source": [
    "# Load diabetes data\n",
    "\n",
    "\n",
    "# Train on training set\n",
    "mat, meta = arff.loadarff('diabetes_train.arff')\n",
    "mat = mat.tolist()\n",
    "labels = []\n",
    "data = []\n",
    "for i in range(len(mat)):\n",
    "    labels.append([mat[i][-1]])\n",
    "    data.append(mat[i][:-1])\n",
    "mat, meta = arff.loadarff('diabetes_test.arff')\n",
    "mat = mat.tolist()\n",
    "labels_test = []\n",
    "data_test = []\n",
    "for i in range(len(mat)):\n",
    "    labels_test.append([mat[i][-1]])\n",
    "    data_test.append(mat[i][:-1])\n",
    "\n",
    "# Predict on test set\n",
    "KNN = KNNClassifier(weight_type='inverse_distance', num_neighbour=3, regression=False)\n",
    "data = np.array(data)\n",
    "labels = np.array(labels)\n",
    "data_test = np.array(data_test)\n",
    "labels_test = np.array(labels_test)\n",
    "print(KNN.fit(data, labels,Normalize=False))\n",
    "print(KNN.score(data_test, labels_test, mse=False,Normalize=False))\n"
   ]
  },
  {
   "cell_type": "markdown",
   "metadata": {
    "id": "9vWiTdlbR2Xh"
   },
   "source": [
    "## 2. (10%) Use the k-nearest neighbor algorithm (without distance weighting) for the [magic telescope](http://archive.ics.uci.edu/ml/datasets/MAGIC+Gamma+Telescope) problem\n",
    "\n",
    "- Use this [magic telescope training set](https://byu.instructure.com/courses/14142/files?preview=4660988) and this [magic telescope test set](https://byu.instructure.com/courses/14142/files?preview=4660989) \n",
    "\n",
    "### 2.1\n",
    "- Try it with k=3 and without normalization\n"
   ]
  },
  {
   "cell_type": "code",
   "execution_count": 124,
   "metadata": {
    "id": "4SSoasDQSKXb"
   },
   "outputs": [
    {
     "name": "stdout",
     "output_type": "stream",
     "text": [
      "KNNClassifier(num_neighbour=3, weight_type='distance')\n",
      "0.8082808280828083\n"
     ]
    }
   ],
   "source": [
    "# Load magic telescope data\n",
    "\n",
    "# Train/Predict without normalization\n",
    "# Load diabetes data\n",
    "\n",
    "\n",
    "# Train on training set\n",
    "mat, meta = arff.loadarff('magic_telescope_train.arff')\n",
    "mat = mat.tolist()\n",
    "labels = []\n",
    "data = []\n",
    "for i in range(len(mat)):\n",
    "    labels.append([mat[i][-1]])\n",
    "    data.append(mat[i][:-1])\n",
    "mat, meta = arff.loadarff('magic_telescope_test.arff')\n",
    "mat = mat.tolist()\n",
    "labels_test = []\n",
    "data_test = []\n",
    "for i in range(len(mat)):\n",
    "    labels_test.append([mat[i][-1]])\n",
    "    data_test.append(mat[i][:-1])\n",
    "\n",
    "# Predict on test set\n",
    "KNN = KNNClassifier(weight_type='distance', num_neighbour=3, regression=False)\n",
    "data = np.array(data)\n",
    "labels = np.array(labels)\n",
    "data_test = np.array(data_test)\n",
    "labels_test = np.array(labels_test)\n",
    "print(KNN.fit(data, labels,Normalize=False))\n",
    "print(KNN.score(data_test, labels_test, mse=False,Normalize=False))\n",
    "\n"
   ]
  },
  {
   "cell_type": "markdown",
   "metadata": {},
   "source": [
    "### 2.2\n",
    "- Try it with k=3 and with normalization (input features normalized between 0 and 1). Use the normalization formula (x-xmin)/(xmax-xmin)"
   ]
  },
  {
   "cell_type": "code",
   "execution_count": 125,
   "metadata": {},
   "outputs": [
    {
     "name": "stdout",
     "output_type": "stream",
     "text": [
      "KNNClassifier(num_neighbour=3, weight_type='distance')\n",
      "0.8306330633063307\n"
     ]
    }
   ],
   "source": [
    "# Train/Predict with normalization\n",
    "mat, meta = arff.loadarff('magic_telescope_train.arff')\n",
    "mat = mat.tolist()\n",
    "labels = []\n",
    "data = []\n",
    "for i in range(len(mat)):\n",
    "    labels.append([mat[i][-1]])\n",
    "    data.append(mat[i][:-1])\n",
    "mat, meta = arff.loadarff('magic_telescope_test.arff')\n",
    "mat = mat.tolist()\n",
    "labels_test = []\n",
    "data_test = []\n",
    "for i in range(len(mat)):\n",
    "    labels_test.append([mat[i][-1]])\n",
    "    data_test.append(mat[i][:-1])\n",
    "\n",
    "# Predict on test set\n",
    "KNN = KNNClassifier(weight_type='distance', num_neighbour=3, regression=False)\n",
    "data = np.array(data)\n",
    "labels = np.array(labels)\n",
    "data_test = np.array(data_test)\n",
    "labels_test = np.array(labels_test)\n",
    "print(KNN.fit(data, labels,Normalize=True))\n",
    "print(KNN.score(data_test, labels_test, mse=False,Normalize=True))"
   ]
  },
  {
   "cell_type": "markdown",
   "metadata": {},
   "source": [
    "The accuracy results show a difference when using normalized data versus unnormalized data in the K-nearest neighbor (KNN) classifier. Specifically, the classifier's accuracy is higher when using normalized data, with a score of 0.8306, compared to the accuracy of 0.8083 when using unnormalized data. I think the reason behind this difference in accuracy lies in KNN algorithm. KNN relies on the calculation of distances between data points to make predictions. When features within the dataset have different scales or units, the distance metric may be dominated by the feature with the largest scale. This can lead to suboptimal predictions, as the impact of other features with smaller scales might be neglected. By normalizing the data, I ensure that all features have the same scale or are within the same range.This equalizes the influence of each feature on the distance metric and allows the KNN algorithm to make better predictions."
   ]
  },
  {
   "cell_type": "markdown",
   "metadata": {},
   "source": [
    "### 2.3\n",
    "\n",
    "- Using your normalized data, create one graph with classification accuracy on the test set over k values. \n",
    "    - Use odd values of k from 1 to 15.\n",
    "- As a rough sanity check, typical knn accuracies for the magic telescope data set are 75-85%"
   ]
  },
  {
   "cell_type": "code",
   "execution_count": 130,
   "metadata": {},
   "outputs": [
    {
     "data": {
      "image/png": "[encoded data removed]",
      "text/plain": [
       "<Figure size 640x480 with 1 Axes>"
      ]
     },
     "metadata": {},
     "output_type": "display_data"
    }
   ],
   "source": [
    "# Train/Predict with normalization using k=1,3,...,15\n",
    "\n",
    "# Graph classification accuracy over k\n",
    "\n",
    "\n",
    "# Train/Predict with normalization\n",
    "mat, meta = arff.loadarff('magic_telescope_train.arff')\n",
    "mat = mat.tolist()\n",
    "labels = []\n",
    "data = []\n",
    "for i in range(len(mat)):\n",
    "    labels.append([mat[i][-1]])\n",
    "    data.append(mat[i][:-1])\n",
    "mat, meta = arff.loadarff('magic_telescope_test.arff')\n",
    "mat = mat.tolist()\n",
    "labels_test = []\n",
    "data_test = []\n",
    "for i in range(len(mat)):\n",
    "    labels_test.append([mat[i][-1]])\n",
    "    data_test.append(mat[i][:-1])\n",
    "\n",
    "\n",
    "k_values = list(range(1, 16, 2))\n",
    "accuracies = []\n",
    "\n",
    "# Loop through odd k values and calculate the accuracy\n",
    "for k in k_values:\n",
    "    KNN = KNNClassifier(weight_type='distance', num_neighbour=k, regression=False)\n",
    "    KNN.fit(data, labels, Normalize=True)\n",
    "    accuracy = KNN.score(data_test, labels_test, mse=False, Normalize=True)\n",
    "    accuracies.append(accuracy)\n",
    "\n",
    "# Plot the results\n",
    "plt.plot(k_values, accuracies, marker='o')\n",
    "plt.xlabel('k values')\n",
    "plt.ylabel('Accuracy')\n",
    "plt.title('Accuracy vs. k values')\n",
    "plt.grid()\n",
    "plt.show()\n"
   ]
  },
  {
   "cell_type": "markdown",
   "metadata": {},
   "source": [
    "# For the rest of the experiments use only normalized data"
   ]
  },
  {
   "cell_type": "markdown",
   "metadata": {
    "id": "SIRG42TgSR4x"
   },
   "source": [
    "## 3. (10%) Use the regression variation of your algorithm (without distance weighting) for the [housing price prediction](https://www.cs.toronto.edu/~delve/data/boston/bostonDetail.html) problem.\n",
    "\n",
    "- Use this [housing training set](https://byu.instructure.com/courses/14142/files?preview=4660994) and this [housing test set](https://byu.instructure.com/courses/14142/files?preview=4660995).\n",
    "- Use Mean Square Error (MSE) on the test set as your accuracy metric for this case.\n",
    "    - Do not normalize regression output values\n",
    "- Graph MSE on the test set with odd values of k from 1 to 15\n"
   ]
  },
  {
   "cell_type": "code",
   "execution_count": 5,
   "metadata": {
    "id": "KBGUn43ASiXW"
   },
   "outputs": [
    {
     "data": {
      "image/png": "[encoded data removed]",
      "text/plain": [
       "<Figure size 640x480 with 1 Axes>"
      ]
     },
     "metadata": {},
     "output_type": "display_data"
    }
   ],
   "source": [
    "# Load housing price prediction data\n",
    "\n",
    "# Train/Predict using k=1,3,...,15\n",
    "\n",
    "# Graph MSE over k\n",
    "# Train/Predict with normalization using k=1,3,...,15\n",
    "\n",
    "# Graph classification accuracy over k\n",
    "\n",
    "\n",
    "# Train/Predict with normalization\n",
    "mat, meta = arff.loadarff('housing_train.arff')\n",
    "mat = np.array(mat.tolist(), dtype=float) # Convert the entire dataset to numerical format\n",
    "labels = mat[:, -1].reshape(-1, 1)\n",
    "data = mat[:, :-1]\n",
    "\n",
    "mat, meta = arff.loadarff('housing_test.arff')\n",
    "mat = np.array(mat.tolist(), dtype=float) # Convert the entire dataset to numerical format\n",
    "labels_test = mat[:, -1].reshape(-1, 1)\n",
    "data_test = mat[:, :-1]\n",
    "\n",
    "\n",
    "k_values = list(range(1, 16, 2))\n",
    "accuracies = []\n",
    "\n",
    "# Loop through odd k values and calculate the accuracy\n",
    "for k in k_values:\n",
    "    KNN = KNNClassifier(weight_type='distance', num_neighbour=k, regression=True)\n",
    "    KNN.fit(data, labels, Normalize=True)\n",
    "    accuracy = KNN.score(data_test, labels_test, mse=True, Normalize=True)\n",
    "    #print()\n",
    "    accuracies.append(accuracy)\n",
    "\n",
    "# Plot the results\n",
    "plt.plot(k_values, accuracies, marker='o')\n",
    "plt.xlabel('k values')\n",
    "plt.ylabel('Accuracy')\n",
    "plt.title('Accuracy vs. k values')\n",
    "plt.grid()\n",
    "plt.show()\n",
    "\n"
   ]
  },
  {
   "cell_type": "markdown",
   "metadata": {
    "id": "v19fpixqTe-7"
   },
   "source": [
    "## 4. (15%) Repeat your experiments for magic telescope and housing using distance-weighted (inverse of distance squared) voting and discuss your results.\n"
   ]
  },
  {
   "cell_type": "markdown",
   "metadata": {},
   "source": [
    "## 4.1 Magic Telescope Dataset"
   ]
  },
  {
   "cell_type": "code",
   "execution_count": 97,
   "metadata": {
    "id": "ZCPFUAGTS2sX"
   },
   "outputs": [
    {
     "name": "stdout",
     "output_type": "stream",
     "text": [
      "KNNClassifier(num_neighbour=3, weight_type='distance')\n",
      "0.8306330633063307\n"
     ]
    }
   ],
   "source": [
    "# Train/Predict magic telescope using distance-weighted voting\n",
    "# Train/Predict with normalization\n",
    "mat, meta = arff.loadarff('magic_telescope_train.arff')\n",
    "mat = mat.tolist()\n",
    "labels = []\n",
    "data = []\n",
    "for i in range(len(mat)):\n",
    "    labels.append([mat[i][-1]])\n",
    "    data.append(mat[i][:-1])\n",
    "mat, meta = arff.loadarff('magic_telescope_test.arff')\n",
    "mat = mat.tolist()\n",
    "labels_test = []\n",
    "data_test = []\n",
    "for i in range(len(mat)):\n",
    "    labels_test.append([mat[i][-1]])\n",
    "    data_test.append(mat[i][:-1])\n",
    "\n",
    "# Predict on test set\n",
    "KNN = KNNClassifier(weight_type='distance', num_neighbour=3, regression=False)\n",
    "data = np.array(data)\n",
    "labels = np.array(labels)\n",
    "data_test = np.array(data_test)\n",
    "labels_test = np.array(labels_test)\n",
    "print(KNN.fit(data, labels,Normalize=True))\n",
    "print(KNN.score(data_test, labels_test, mse=False,Normalize=True))"
   ]
  },
  {
   "cell_type": "markdown",
   "metadata": {},
   "source": [
    "## 4.2 Housing Dataset"
   ]
  },
  {
   "cell_type": "code",
   "execution_count": 129,
   "metadata": {},
   "outputs": [
    {
     "name": "stdout",
     "output_type": "stream",
     "text": [
      "KNNClassifier(num_neighbour=3, regression=True, weight_type='invert_distance')\n",
      "52.963246187363836\n"
     ]
    }
   ],
   "source": [
    "# Train/Predict housing using distance-weighted voting\n",
    "# Train/Predict magic telescope using distance-weighted voting\n",
    "# Train/Predict with normalization\n",
    "mat, meta = arff.loadarff('housing_train.arff')\n",
    "mat = np.array(mat.tolist(), dtype=float) # Convert the entire dataset to numerical format\n",
    "labels = mat[:, -1].reshape(-1, 1)\n",
    "data = mat[:, :-1]\n",
    "\n",
    "mat, meta = arff.loadarff('housing_test.arff')\n",
    "mat = np.array(mat.tolist(), dtype=float) # Convert the entire dataset to numerical format\n",
    "labels_test = mat[:, -1].reshape(-1, 1)\n",
    "data_test = mat[:, :-1]\n",
    "\n",
    "# Predict on test set\n",
    "KNN = KNNClassifier(weight_type='invert_distance', num_neighbour=3, regression=True)\n",
    "print(KNN.fit(data, labels, Normalize=False))\n",
    "print(KNN.score(data_test, labels_test, mse=True, Normalize=False))"
   ]
  },
  {
   "cell_type": "markdown",
   "metadata": {},
   "source": [
    "From these results, we can observe that the magic telescope classifier has a relatively high accuracy(83.06%), which can be attributed to the combination of data normalization and distance-weighted voting. Data normalization ensures that all features contribute equally to the distance calculation, while distance-weighted voting helps to weigh the contribution of each neighbor based on their distance from the query point. For the housing dataset, the KNN classifier uses distance-weighted voting with inverted distance but without data normalization. The MSE score is 52.9632, which is good considering that we want a low MSE.A low MSE signifies that the model is making fewer errors in its predictions. "
   ]
  },
  {
   "cell_type": "markdown",
   "metadata": {},
   "source": [
    "## 5. (10%) Use the k-nearest neighbor algorithm to solve the [credit-approval](https://archive.ics.uci.edu/ml/datasets/Credit+Approval) (credit-a) problem.\n",
    "\n",
    "- Use this [credit approval dataset](https://byu.instructure.com/courses/14142/files?preview=4660998)\n",
    "    - Use a 70/30 split of the data for the training/test set\n",
    "- Note that this set has both continuous and nominal attributes, together with don’t know values. \n",
    "- Implement and justify a distance metric which supports continuous, nominal, and don’t know attribute values\n",
    "    - You need to handle don't knows with the distance metric, not by imputing a value.\n",
    "    - More information on distance metrics can be found [here](https://www.jair.org/index.php/jair/article/view/10182/24168).\n",
    "- Use your own choice for k.\n",
    "- As a rough sanity check, typical knn accuracies for the credit data set are 70-80%.\n"
   ]
  },
  {
   "cell_type": "code",
   "execution_count": 23,
   "metadata": {},
   "outputs": [
    {
     "name": "stderr",
     "output_type": "stream",
     "text": [
      "C:\\Users\\Public\\Documents\\Anaconda3\\lib\\site-packages\\sklearn\\preprocessing\\_label.py:115: DataConversionWarning: A column-vector y was passed when a 1d array was expected. Please change the shape of y to (n_samples, ), for example using ravel().\n",
      "  y = column_or_1d(y, warn=True)\n"
     ]
    },
    {
     "name": "stdout",
     "output_type": "stream",
     "text": [
      "0.44306418219461696\n"
     ]
    }
   ],
   "source": [
    "# Load dataset and split into train/test sets\n",
    "\n",
    "# Train/Predict credit-approval\n",
    "# Train/Predict housing using distance-weighted voting\n",
    "# Train/Predict magic telescope using distance-weighted voting\n",
    "# Train/Predict with normalization\n",
    "mat, meta = arff.loadarff('credit_approval.arff')\n",
    "mat = np.array(mat.tolist(), dtype=object) # Convert the entire dataset to an object dtype array\n",
    "labels = mat[:, -1].reshape(-1, 1)\n",
    "data = mat[:, :-1]\n",
    "\n",
    "# Encode labels as numbers\n",
    "encoder = LabelEncoder()\n",
    "labels = encoder.fit_transform(labels).reshape(-1, 1)\n",
    "# Split the dataset into a 70/30 training/test set\n",
    "data_train, data_test, labels_train, labels_test = train_test_split(data, labels, test_size=0.3)\n",
    "\n",
    "# Fit and score on the training set\n",
    "KNN = KNNClassifier(weight_type='inverse_distance', num_neighbour=3, regression=True)\n",
    "KNN.fit(data_train, labels_train, Normalize=False)\n",
    "print(KNN.score(data_train, labels_train, mse=True, Normalize=False))\n",
    "\n",
    "\n"
   ]
  },
  {
   "cell_type": "markdown",
   "metadata": {},
   "source": [
    "I used the Heterogeneous Euclidean-Overlap Metric (HEOM) for my distance metric because it is particularly suitable for datasets with a mix of continuous, nominal (categorical), and missing (don't know) attribute values. HEOM works by calculating the distance between two data points by considering the differences in each attribute according to its type. it combines Euclidean distance for continuous attributes and overlap distance for nominal attributes.\n",
    "I followed this methodology when creating my HEOM function:\n",
    "-For continuous attributes, the squared difference between the attribute values is added to the distance. If the attribute type is continuous, you calculate the squared difference between the attribute values and add it to the distance.\n",
    "-For nominal attributes, the distance is incremented by 1 if the attribute values are different, and 0 if they are the same. If the attribute type is nominal (categorical), you increment the distance by 1 if the attribute values are different, and 0 if they are the same.\n",
    "-For missing (don't know) attributes, they are simply ignored in the distance calculation. If the attribute value is missing (represented by '?'), you skip the attribute by using continue.\n",
    "-Return the square root of the distance, which is consistent with the Euclidean distance calculation for continuous attributes.\n",
    "\n"
   ]
  },
  {
   "cell_type": "markdown",
   "metadata": {
    "id": "oBBmeNQ7jvcQ"
   },
   "source": [
    "## 6. (15%) Use the scikit's KNN Classifier on magic telescope and KNN Regressor on housing and compare your results.\n",
    "\n",
    "- Try out different hyperparameters to see how well you can do. \n"
   ]
  },
  {
   "cell_type": "code",
   "execution_count": 33,
   "metadata": {
    "id": "OFQv70W2VyqJ"
   },
   "outputs": [
    {
     "name": "stderr",
     "output_type": "stream",
     "text": [
      "C:\\Users\\Public\\Documents\\Anaconda3\\lib\\site-packages\\sklearn\\neighbors\\_classification.py:198: DataConversionWarning: A column-vector y was passed when a 1d array was expected. Please change the shape of y to (n_samples,), for example using ravel().\n",
      "  return self._fit(X, y)\n"
     ]
    },
    {
     "name": "stdout",
     "output_type": "stream",
     "text": [
      "Magic Telescope KNeighborsClassifier accuracy: 0.8094809480948095\n",
      "Housing KNeighborsRegressor mean squared error: 52.76725157580182\n"
     ]
    }
   ],
   "source": [
    "import numpy as np\n",
    "from scipy.io import arff\n",
    "from sklearn.preprocessing import LabelEncoder\n",
    "from sklearn.model_selection import train_test_split\n",
    "from sklearn.neighbors import KNeighborsClassifier, KNeighborsRegressor\n",
    "from sklearn.metrics import accuracy_score, mean_squared_error\n",
    "\n",
    "# Train/Predict magic telescope using scikit's KNN\n",
    "mat, meta = arff.loadarff('magic_telescope_train.arff')\n",
    "mat = mat.tolist()\n",
    "labels = []\n",
    "data = []\n",
    "for i in range(len(mat)):\n",
    "    labels.append([mat[i][-1]])\n",
    "    data.append(mat[i][:-1])\n",
    "mat, meta = arff.loadarff('magic_telescope_test.arff')\n",
    "mat = mat.tolist()\n",
    "labels_test = []\n",
    "data_test = []\n",
    "for i in range(len(mat)):\n",
    "    labels_test.append([mat[i][-1]])\n",
    "    data_test.append(mat[i][:-1])\n",
    "\n",
    "\n",
    "knn_classifier = KNeighborsClassifier(n_neighbors=3, weights='distance')\n",
    "knn_classifier.fit(data, labels)\n",
    "labels_pred = knn_classifier.predict(data_test)\n",
    "accuracy = accuracy_score(labels_test, labels_pred)\n",
    "print(f'Magic Telescope KNeighborsClassifier accuracy: {accuracy}')\n",
    "\n",
    "\n",
    "\n",
    "# Train/Predict housing using scikit's KNN\n",
    "\n",
    "mat, meta = arff.loadarff('housing_train.arff')\n",
    "mat = np.array(mat.tolist(), dtype=float) # Convert the entire dataset to numerical format\n",
    "labels = mat[:, -1].reshape(-1, 1)\n",
    "data = mat[:, :-1]\n",
    "\n",
    "mat, meta = arff.loadarff('housing_test.arff')\n",
    "mat = np.array(mat.tolist(), dtype=float) # Convert the entire dataset to numerical format\n",
    "labels_test = mat[:, -1].reshape(-1, 1)\n",
    "data_test = mat[:, :-1]\n",
    "\n",
    "knn_regressor = KNeighborsRegressor(n_neighbors=3, weights='distance')\n",
    "knn_regressor.fit(data, labels)\n",
    "labels_pred = knn_regressor.predict(data_test)\n",
    "mse = mean_squared_error(labels_test, labels_pred)\n",
    "print(f'Housing KNeighborsRegressor mean squared error: {mse}')\n"
   ]
  },
  {
   "cell_type": "markdown",
   "metadata": {
    "id": "BqSFAXwlk3Ms"
   },
   "source": [
    "Magic Telescope Dataset:\n",
    "Custom KNNClassifier: 0.8306 (accuracy)\n",
    "Scikit-learn KNeighborsClassifier: 0.8095 (accuracy)\n",
    "\n",
    "Housing Dataset:\n",
    "Custom KNNRegressor: 52.9632 (mean squared error)\n",
    "Scikit-learn KNeighborsRegressor: 52.7673 (mean squared error)\n",
    "\n",
    "For the Magic Telescope dataset, my custom KNNClassifier performs slightly better in terms of accuracy (0.8306) compared to the scikit-learn KNeighborsClassifier (0.8095). For the Housing dataset, the mean squared error (MSE) scores are quite close between my custom KNNRegressor (52.9632) and scikit-learn's KNeighborsRegressor (52.7673).  Overall, the results are quite similar to each other which makes me think that my custom KNNClassifier was correctly implemented.\n"
   ]
  },
  {
   "cell_type": "markdown",
   "metadata": {
    "id": "cTlK-kijk8Mg"
   },
   "source": [
    "## 7. (optional 5% extra credit): For the best value of k for any one of the datasets, implement a reduction algorithm that removes data points in some rational way such that performance does not drop too drastically on the test set given the reduced training set.\n",
    "\n",
    "- Compare your performance on the test set for the reduced and non-reduced versions and give the number (and percentage) of training examples removed from the original training set. How well does your reduction algorithm work?\n",
    "    - Note that performance for magic telescope is classification accuracy and for housing it is mean squared error.\n",
    "    - Magic Telescope has about 12,000 instances and if you use a leave one out style of testing for your data set reduction, then your algorithm will run slow since that is n2 at each step.\n",
    "    - If you wish, you may use a random subset of 2,000 of the magic telescope instances.\n",
    "    - Examples of reduction techniques include: (a) leave-one-out reduction - Drop instance if it would still be classified correctly, (b) growth algorithm - Only add instance if it is not already classified correctly, (c) just keep central points, (d) just keep border points, etc. (see Wilson, D. R. and Martinez, T. R., Reduction Techniques for Exemplar-Based Learning Algorithms, Machine Learning Journal, vol. 38, no. 3, pp. 257-286, 2000)."
   ]
  }
 ],
 "metadata": {
  "colab": {
   "collapsed_sections": [],
   "name": "lab 1 - perceptron",
   "provenance": []
  },
  "kernelspec": {
   "display_name": "Python 3 (ipykernel)",
   "language": "python",
   "name": "python3"
  },
  "language_info": {
   "codemirror_mode": {
    "name": "ipython",
    "version": 3
   },
   "file_extension": ".py",
   "mimetype": "text/x-python",
   "name": "python",
   "nbconvert_exporter": "python",
   "pygments_lexer": "ipython3",
   "version": "3.9.13"
  }
 },
 "nbformat": 4,
 "nbformat_minor": 4
}
