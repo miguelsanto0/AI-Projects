{
 "cells": [
  {
   "cell_type": "markdown",
   "metadata": {
    "id": "DVL7_bgmIAPR"
   },
   "source": [
    "# Perceptron Lab\n",
    "\n",
    "\n",
    "\n"
   ]
  },
  {
   "cell_type": "code",
   "execution_count": 231,
   "metadata": {
    "id": "6ZbYjZZZ_yLV"
   },
   "outputs": [],
   "source": [
    "from sklearn.base import BaseEstimator, ClassifierMixin\n",
    "from sklearn.linear_model import Perceptron\n",
    "from sklearn.preprocessing import LabelEncoder\n",
    "import numpy as np\n",
    "import scipy.io.arff as arff\n",
    "import pandas as pd\n",
    "import random as rand\n",
    "import matplotlib.pyplot as plt"
   ]
  },
  {
   "cell_type": "markdown",
   "metadata": {
    "id": "sCcEPx5VIORj"
   },
   "source": [
    "## 1. (40%) Correctly implement and submit your own code for the perceptron learning algorithm. \n",
    "\n",
    "### Code requirements\n",
    "- Shuffle the data each epoch.\n",
    "- Use Stochastic/On-line training updates: Iterate and update weights after each training instance (i.e. do not attempt batch updates)\n",
    "- Implement a stopping criterion: when your model has trained for a number of epochs with no significant improvement in accuracy, stop training. Note that the weights/accuracy do not usually change monotonically.\n",
    "- Use your perceptron to solve the Debug data. We provide you with several parameters, and you should be able to replicate our results every time. When you are confident it is correct, run your perceptron on the Evaluation data with the same parameters, and print your final weights and accuracy."
   ]
  },
  {
   "cell_type": "code",
   "execution_count": 232,
   "metadata": {
    "id": "_a2KSZ_7AN0G"
   },
   "outputs": [],
   "source": [
    "class PerceptronClassifier(BaseEstimator,ClassifierMixin):\n",
    "\n",
    "    def __init__(self, lr=.1, shuffle=True,deterministic=None):\n",
    "        \"\"\" \n",
    "            Initialize class with chosen hyperparameters.\n",
    "        Args:\n",
    "            lr (float): A learning rate / step size.\n",
    "            shuffle: Whether to shuffle the training data each epoch. DO NOT \n",
    "            SHUFFLE for evaluation / debug datasets.\n",
    "        \"\"\"\n",
    "        self.lr = lr\n",
    "        self.shuffle = shuffle\n",
    "        self.deterministic = deterministic\n",
    "        self.scores = []\n",
    "            \n",
    "\n",
    "    def fit(self, X, y, initial_weights=None):\n",
    "        \"\"\" \n",
    "            Fit the data; run the algorithm and adjust the weights to find a \n",
    "            good solution\n",
    "        Args:\n",
    "            X (array-like): A 2D numpy array with the training data, excluding\n",
    "            targets\n",
    "            y (array-like): A 2D numpy array with the training targets\n",
    "            initial_weights (array-like): allows the user to provide initial \n",
    "            weights\n",
    "        Returns:\n",
    "            self: this allows this to be chained, e.g. model.fit(X,y).predict(X_test)\n",
    "        \"\"\"        \n",
    "        self.weights = self.initialize_weights(len(X[0]) + 1) if not initial_weights else initial_weights\n",
    "        self.bias = 1\n",
    "        count = 0\n",
    "        #output prediction\n",
    "        if self.deterministic:\n",
    "            for i in range(self.deterministic):\n",
    "                self.scores.append(1-self.score(X,y))\n",
    "                for j,x in enumerate(X):\n",
    "                    x = np.append(x,1)\n",
    "                    linear_output = np.dot(x, self.weights) #w*x\n",
    "                    if linear_output > 0:\n",
    "                        output = 1\n",
    "                    else:\n",
    "                        output = 0\n",
    "                    #add 1 on the row\n",
    "                    update = self.lr * (y[j] - output)\n",
    "                    target = y[j]\n",
    "                    if target != output:\n",
    "                        self.weights += update * x\n",
    "                    else:\n",
    "                        count += 1\n",
    "\n",
    "        else:\n",
    "            num_epic_last_improv = 0\n",
    "            best_accur = 0\n",
    "            while num_epic_last_improv < 10:\n",
    "                num_correct = 0 \n",
    "                X,y = _shuffle_data(X,y)\n",
    "                self.scores.append(1-self.score(X,y))\n",
    "                for j,x in enumerate(X):\n",
    "                    x = np.append(x,1)\n",
    "                    linear_output = np.dot(x, self.weights) #w*x\n",
    "                    if linear_output > 0:\n",
    "                        output = 1\n",
    "                    else:\n",
    "                        output = 0\n",
    "                    #add 1 on the row\n",
    "                    update = self.lr * (y[j] - output)\n",
    "                    target = y[j]\n",
    "                    if target != output:\n",
    "                        self.weights += update * x\n",
    "                        \n",
    "                    else:\n",
    "                        num_correct += 1\n",
    "                        \n",
    "                if num_correct > best_accur:\n",
    "                    best_accur = num_correct\n",
    "                    num_epic_last_improv = 0\n",
    "                else:\n",
    "                    num_epic_last_improv += 1\n",
    "             \n",
    "               \n",
    "        \n",
    "        \n",
    "        return self\n",
    "\n",
    "    def predict(self, X):\n",
    "        \"\"\" \n",
    "            Predict all classes for a dataset X\n",
    "        Args:\n",
    "            X (array-like): A 2D numpy array with the training data, excluding \n",
    "            targets\n",
    "        Returns:\n",
    "            array, shape (n_samples,)\n",
    "                Predicted target values per element in X.\n",
    "        \"\"\"\n",
    "        \n",
    "        n_samples = X.shape[0]\n",
    "        y_pred = np.zeros(len(X))\n",
    "        for j,x in enumerate(X):\n",
    "            x = np.append(x,1)\n",
    "            dot_product = np.dot(x, self.weights)\n",
    "            if dot_product >= 0:\n",
    "                y_pred[j] = 1\n",
    "             \n",
    "        return y_pred\n",
    "    \n",
    "\n",
    "    def initialize_weights(self, n_features):\n",
    "        \"\"\" Initialize weights for perceptron. Don't forget the bias!\n",
    "        Returns:\n",
    "        \"\"\"\n",
    "        return np.zeros(n_features)\n",
    "\n",
    "    def score(self, X, y):\n",
    "        \"\"\" \n",
    "            Return accuracy of model on a given dataset. Must implement own \n",
    "            score function.\n",
    "        Args:\n",
    "            X (array-like): A 2D numpy array with data, excluding targets\n",
    "            y (array-like): A 2D numpy array with targets\n",
    "        Returns:\n",
    "            score : float\n",
    "                Mean accuracy of self.predict(X) wrt. y.\n",
    "        \"\"\"\n",
    "\n",
    "        y_pred = self.predict(X)\n",
    "        correct_predictions = np.sum(y_pred == y)\n",
    "        accuracy = correct_predictions / y.shape[0]\n",
    "        return accuracy\n",
    "\n",
    "    def _shuffle_data(self, X, y):\n",
    "        \"\"\" \n",
    "            Shuffle the data! This _ prefix suggests that this method should \n",
    "            only be called internally.\n",
    "            It might be easier to concatenate X & y and shuffle a single 2D \n",
    "            array, rather than shuffling X and y exactly the same way, \n",
    "            independently.\n",
    "        \"\"\"\n",
    "        \n",
    "        assert len(X) == len(y)\n",
    "        p = numpy.random.permutation(len(X))\n",
    "        \n",
    "        return X[p], y[p]\n",
    "        \n",
    "\n",
    "    ### Not required by sk-learn but required by us for grading. Returns the weights.\n",
    "    def get_weights(self):\n",
    "        return self.weights\n",
    "    def get_scores(self):\n",
    "        return self.scores"
   ]
  },
  {
   "cell_type": "markdown",
   "metadata": {
    "id": "KibCIXIThpbE"
   },
   "source": [
    "## 1.1 Debug and Evaluation\n",
    "\n",
    "Debug and Evaluate your model using the parameters below\n",
    "\n",
    "Learning Rate = 0.1\\\n",
    "Deterministic = 10 [i.e., run it 10 epochs and should be the same everytime you run it]\\\n",
    "Shuffle = False\\\n",
    "Initial Weights = All zeros\n",
    "\n",
    "---\n",
    "\n",
    "### 1.1.1 Debug\n",
    "\n",
    "Debug your model by running it on the [debug dataset](https://byu.instructure.com/files/4421290/download?download_frd=1)\n",
    "\n",
    "Expected Results:\n",
    "\n",
    "Accuracy = [0.88]\\\n",
    "Final Weights = [-0.23  0.18 -0.1 ]"
   ]
  },
  {
   "cell_type": "code",
   "execution_count": 233,
   "metadata": {
    "id": "KgAyy82gixIF"
   },
   "outputs": [
    {
     "name": "stdout",
     "output_type": "stream",
     "text": [
      "0.875\n",
      "[-0.23  0.18 -0.1 ]\n"
     ]
    },
    {
     "name": "stderr",
     "output_type": "stream",
     "text": [
      "  % Total    % Received % Xferd  Average Speed   Time    Time     Time  Current\n",
      "                                 Dload  Upload   Total   Spent    Left  Speed\n",
      "\n",
      "  0     0    0     0    0     0      0      0 --:--:-- --:--:-- --:--:--     0\n",
      "  0     0    0     0    0     0      0      0 --:--:-- --:--:-- --:--:--     0\n",
      "100   197  100   197    0     0    612      0 --:--:-- --:--:-- --:--:--   615\n"
     ]
    }
   ],
   "source": [
    "# Load debug data\n",
    "classifier = PerceptronClassifier(deterministic=10)\n",
    "!curl https://raw.githubusercontent.com/cs472ta/CS472/master/datasets/linsep2nonorigin.arff --output debug-dataset.arff\n",
    "debug_data = arff.loadarff('debug-dataset.arff')\n",
    "debug_data = pd.DataFrame(debug_data[0]).values.astype(float)\n",
    "\n",
    "mat = debug_data\n",
    "data = mat[:,:-1]\n",
    "\n",
    "labels = mat[:,-1] \n",
    "classifier.fit(data, labels)\n",
    "print(classifier.score(data, labels))\n",
    "print(classifier.get_weights())\n",
    "\n",
    "# Train on debug data\n",
    "\n",
    "# Print accuracy and weights"
   ]
  },
  {
   "cell_type": "code",
   "execution_count": 234,
   "metadata": {
    "id": "2yAxA78QjDh2"
   },
   "outputs": [
    {
     "name": "stderr",
     "output_type": "stream",
     "text": [
      "  % Total    % Received % Xferd  Average Speed   Time    Time     Time  Current\n",
      "                                 Dload  Upload   Total   Spent    Left  Speed\n",
      "\n",
      "  0     0    0     0    0     0      0      0 --:--:-- --:--:-- --:--:--     0\n",
      "100 46685  100 46685    0     0   183k      0 --:--:-- --:--:-- --:--:--  185k\n"
     ]
    },
    {
     "name": "stdout",
     "output_type": "stream",
     "text": [
      "0.9876093294460642\n",
      "[-3.80657242 -2.840821   -3.0719334  -1.4003906   4.9       ]\n"
     ]
    }
   ],
   "source": [
    "# Load evaluation data\n",
    "\n",
    "# Train on evaluation data\n",
    "\n",
    "# Print accuracy and weights\n",
    "!curl https://raw.githubusercontent.com/cs472ta/CS472/master/datasets/data_banknote_authentication.arff --output debug-dataset.arff\n",
    "debug_data = arff.loadarff('debug-dataset.arff')\n",
    "debug_data = pd.DataFrame(debug_data[0]).values.astype(float)\n",
    "\n",
    "mat = debug_data\n",
    "data = mat[:,:-1]\n",
    "labels = mat[:,-1] \n",
    "classifier.fit(data, labels)\n",
    "print(classifier.score(data, labels))\n",
    "print(classifier.get_weights())\n"
   ]
  },
  {
   "cell_type": "markdown",
   "metadata": {
    "id": "kY3VNB1ui03N"
   },
   "source": [
    "### 1.1.2 Evaluation\n",
    "\n",
    "We will evaluate your model based on it's performance on the [evaluation dataset](https://byu.instructure.com/files/4421294/download?download_frd=1)"
   ]
  },
  {
   "cell_type": "markdown",
   "metadata": {
    "id": "9vWiTdlbR2Xh",
    "tags": []
   },
   "source": [
    "## 2. (30%) Classifying on linearly separable and non-linearly separable data\n",
    "\n",
    "### 2.1 Create 2 datasets\n",
    "\n",
    "- Both with 8 instances using 2 real valued inputs (ranging between -1 and 1) with 4 instances from each class. \n",
    "- One data set should be linearly separable and the other not.\n",
    "\n"
   ]
  },
  {
   "cell_type": "code",
   "execution_count": 235,
   "metadata": {
    "id": "4SSoasDQSKXb"
   },
   "outputs": [],
   "source": [
    "# Create 2 datasets\n",
    "debug_data = arff.loadarff('linearly_separable.arff')\n",
    "debug_data = pd.DataFrame(debug_data[0]).values.astype(float)\n",
    "\n",
    "\n",
    "debug_data2 = arff.loadarff('not_linearly_separable.arff')\n",
    "debug_data2 = pd.DataFrame(debug_data2[0]).values.astype(float)\n",
    "\n",
    "\n"
   ]
  },
  {
   "cell_type": "markdown",
   "metadata": {
    "id": "SIRG42TgSR4x"
   },
   "source": [
    "### 2.2 Train on both sets with your perceptron code (with LR=.1)"
   ]
  },
  {
   "cell_type": "code",
   "execution_count": 236,
   "metadata": {
    "id": "KBGUn43ASiXW"
   },
   "outputs": [
    {
     "name": "stdout",
     "output_type": "stream",
     "text": [
      "1.0\n",
      "[ 0.09  0.13 -0.1 ]\n",
      "0.625\n",
      "[-0.725  0.934 -0.1  ]\n"
     ]
    }
   ],
   "source": [
    "# Train on each damat = debug_data\n",
    "classifier = PerceptronClassifier(deterministic=100)\n",
    "mat = debug_data\n",
    "data = mat[:,:-1]\n",
    "labels = mat[:,-1] \n",
    "classifier.fit(data, labels)\n",
    "print(classifier.score(data, labels))\n",
    "print(classifier.get_weights())\n",
    "\n",
    "classifier2 = PerceptronClassifier(deterministic=100)\n",
    "mat2 = debug_data2\n",
    "data2 = mat2[:,:-1]\n",
    "labels2 = mat2[:,-1] \n",
    "classifier2.fit(data2, labels2)\n",
    "print(classifier2.score(data2, labels2))\n",
    "print(classifier2.get_weights())"
   ]
  },
  {
   "cell_type": "markdown",
   "metadata": {
    "id": "v19fpixqTe-7"
   },
   "source": [
    "### 2.3 Graph the datasets and their corresponding decision line\n",
    " \n",
    " - Graph each dataset\n",
    " - Use your trained perceptrons above to determine each dataset's decision line\n",
    " - For all graphs always label the axes!\n",
    " \n",
    "![Linearly Separable Data](https://raw.githubusercontent.com/rmorain/CS472-1/master/images/perceptron/linearly_separable.png)\n",
    "\n",
    "![Not Linearly Separable](https://raw.githubusercontent.com/rmorain/CS472-1/master/images/perceptron/not_linearly_separable.png)"
   ]
  },
  {
   "cell_type": "code",
   "execution_count": 237,
   "metadata": {
    "id": "ZCPFUAGTS2sX"
   },
   "outputs": [
    {
     "data": {
      "image/png": "[encoded data removed]",
      "text/plain": [
       "<Figure size 640x480 with 1 Axes>"
      ]
     },
     "metadata": {},
     "output_type": "display_data"
    }
   ],
   "source": [
    "# Graph datasets and decision lines\n",
    "ax1 = plt.axes()\n",
    "first_col = debug_data[:, 0]\n",
    "second_col = debug_data[:, 1]\n",
    "b = classifier.get_weights()[2]\n",
    "w2 = classifier.get_weights()[1]\n",
    "w1 = classifier.get_weights()[0]\n",
    "ax1.scatter(first_col, second_col, c=debug_data[:,2])\n",
    "x = x = np.linspace(0,1,10)\n",
    "y = (-w1/w2)*x + (-b/w2)\n",
    "ax1.plot(x, y)\n",
    "plt.xlabel(\"X\")\n",
    "plt.ylabel(\"Y\")\n",
    "plt.show()"
   ]
  },
  {
   "cell_type": "markdown",
   "metadata": {},
   "source": [
    "### 2.4 Discuss why the perceptron won’t converge on non-linearly separable data."
   ]
  },
  {
   "cell_type": "markdown",
   "metadata": {},
   "source": [
    "The perceptron algorithm for binary classification that tries to find a hyperplane that separates the data into two classes. It assumes that the data is linearly separable, meaning that a single straight line or hyperplane can separate the two classes with no overlap.However, if the data is not linearly separable, the perceptron algorithm may not converge to a solution. In this case, the algorithm will keep making updates to the weights and bias of the hyperplane, but it will never find a solution that satisfies the convergence criteria.This is because the perceptron algorithm relies on adjusting the weights and bias of the hyperplane based on the errors made by the current solution, but if the data is not linearly separable, no matter how much the weights and bias are adjusted, there will always be some data points that are misclassified.In conclusion, the perceptron algorithm is limited to only linearly separable data, and it may not converge on non-linearly separable data. "
   ]
  },
  {
   "cell_type": "markdown",
   "metadata": {
    "id": "0ySvhd1lUGSe"
   },
   "source": [
    "## 3. (20%) Use your perceptron code to learn this version of the [voting data set](https://byu.instructure.com/files/4421311/download?download_frd=1).\n",
    "\n",
    "This particular task is an edited version of the standard voting set, where we have replaced all the “don’t know” values with the most common value for the particular attribute.  \n",
    "\n",
    "### 3.1 Create a table that reports the final training and test set accuracy and the number of epochs for each trial.\n",
    "\n",
    "- Try it five times with different random 70/30 splits. \n",
    "- Use your own code to randomize and make splits. \n",
    "- Report the 5 trials and the average across the 5 trials in a table.  \n",
    "\n",
    "| Trial | Training Accuracy | Test accuracy | Number of epochs |\n",
    "| --- | --- | --- | --- |\n",
    "| 1 | .95 | .55 | 4 |\n",
    "| 2 | .85 | .45 | 6 |\n",
    "| Average | .9 | .5 | 5 | \n",
    "\n",
    "*- As a rough sanity check, typical Perceptron test accuracies for the voting data set are 90%-98%.*\n"
   ]
  },
  {
   "cell_type": "code",
   "execution_count": 238,
   "metadata": {
    "id": "Romyl4G8Trki"
   },
   "outputs": [
    {
     "name": "stdout",
     "output_type": "stream",
     "text": [
      "[ 2.77555756e-17 -2.00000000e-01 -8.00000000e-01  1.90000000e+00\n",
      "  3.00000000e-01 -2.00000000e-01  3.00000000e-01  5.00000000e-01\n",
      " -9.00000000e-01  1.00000000e-01 -1.30000000e+00  2.00000000e-01\n",
      "  1.00000000e-01 -2.77555756e-17 -2.00000000e-01  6.00000000e-01\n",
      " -1.20000000e+00]\n",
      "0.96529284164859\n"
     ]
    },
    {
     "data": {
      "image/png": "[encoded data removed]",
      "text/plain": [
       "<Figure size 640x480 with 1 Axes>"
      ]
     },
     "metadata": {},
     "output_type": "display_data"
    }
   ],
   "source": [
    "# Create the table any way you like\n",
    "\n",
    "vote_data = arff.loadarff('voting-dataset.arff')\n",
    "vote_data = pd.DataFrame(vote_data[0])\n",
    "l3 = LabelEncoder()\n",
    "vote = vote_data.apply(l3.fit_transform).values\n",
    "mat = vote\n",
    "data = mat[:,:-1]\n",
    "labels = mat[:,-1] \n",
    "avg_accuracy = np.zeros(20)\n",
    "for i in range(5):\n",
    "    classifier = PerceptronClassifier(deterministic=20)\n",
    "    classifier.fit(data, labels)\n",
    "    avg_accuracy += classifier.get_scores()\n",
    "\n",
    "total = avg_accuracy/5\n",
    "print(classifier.get_weights())\n",
    "print(classifier.score(data,labels))\n",
    "\n",
    "plt.plot(np.arange(len(total)), total)\n",
    "plt.title(\"Average Misclassification Rate vs. Epoch\")\n",
    "plt.xlabel(\"Epoch\")\n",
    "plt.ylabel(\"Misclassification Rate\")\n",
    "plt.show()"
   ]
  },
  {
   "cell_type": "markdown",
   "metadata": {
    "id": "cm4rbWkzVeoR"
   },
   "source": [
    "### 3.2 By looking at the weights, explain what the model has learned and how the individual input features affect the result. Which specific features are most critical for the voting task, and which are least critical? \n"
   ]
  },
  {
   "cell_type": "markdown",
   "metadata": {
    "id": "g3F0Qp-BVi1R"
   },
   "source": [
    "[ 2.77555756e-17 -2.00000000e-01 -8.00000000e-01  1.90000000e+00\n",
    "  3.00000000e-01 -2.00000000e-01  3.00000000e-01  5.00000000e-01\n",
    " -9.00000000e-01  1.00000000e-01 -1.30000000e+00  2.00000000e-01\n",
    "  1.00000000e-01 -2.77555756e-17 -2.00000000e-01  6.00000000e-01\n",
    " -1.20000000e+00]\n",
    "\n",
    "The weights learned by the my model represent the importance of each input feature in predicting the target variable. A positive weight means that as the value of that feature increases, it is more likely that the congressperson is a Republican. Conversely, a negative weight means that as the value of that feature increases, it is more likely that the congressperson is a Democrat.Looking at the weights obtained, the model learned that features 4, 11, and 15 are the most critical for predicting the party affiliation, as they have the largest magnitude weights (1.9, -1.3, and 0.6, respectively). Feature 9 is also important, but to a lesser extent. On the other hand, the model learned that features 1, 2, 5, 14, and 16 are the least critical, as they have weights close to zero."
   ]
  },
  {
   "cell_type": "markdown",
   "metadata": {
    "id": "NyUmJ4yWVsQ7"
   },
   "source": [
    "### 3.3 Make a graph of the average misclassification rate vs epochs (0th – final epoch).\n",
    "\n",
    "- Average the misclassification rate for the training set across your 5 trials (not across 5 epochs).\n",
    "\n",
    "\n",
    "![Average Misclassification Rate](https://raw.githubusercontent.com/rmorain/CS472-1/master/images/perceptron/avg_misclassification_rate_vs_epochs.png)"
   ]
  },
  {
   "cell_type": "code",
   "execution_count": 239,
   "metadata": {
    "id": "2_ZRPWWVVeFM"
   },
   "outputs": [],
   "source": [
    "# Graph here\n",
    "    \n",
    "def plot_misclassification(avg_misclassification_rate):\n",
    "    \"\"\"\n",
    "        Plots the average misclassification rate\n",
    "    Args:\n",
    "        avg_misclassification_rate (array-like): A 1D array or list\n",
    "    \"\"\"\n",
    "    plt.plot(np.arange(len(avg_misclassification_rate)), avg_misclassification_rate)\n",
    "    plt.title(\"Average Misclassification Rate vs. Epoch\")\n",
    "    plt.xlabel(\"Epoch\")\n",
    "    plt.ylabel(\"Misclassification Rate\")\n",
    "    plt.show()\n",
    "    \n"
   ]
  },
  {
   "cell_type": "markdown",
   "metadata": {
    "id": "oBBmeNQ7jvcQ"
   },
   "source": [
    "## 4.1 (5%) Use the perceptron algorithm from the [scikit-learn toolkit](https://scikit-learn.org/stable/modules/generated/sklearn.linear_model.Perceptron.html) to learn the voting task above.\n",
    "- Report and compare your results with your own perceptron code."
   ]
  },
  {
   "cell_type": "code",
   "execution_count": null,
   "metadata": {},
   "outputs": [],
   "source": []
  },
  {
   "cell_type": "code",
   "execution_count": 240,
   "metadata": {
    "id": "OFQv70W2VyqJ"
   },
   "outputs": [
    {
     "data": {
      "text/plain": [
       "0.9609544468546638"
      ]
     },
     "execution_count": 240,
     "metadata": {},
     "output_type": "execute_result"
    }
   ],
   "source": [
    "# Load sklearn perceptron\n",
    "\n",
    "# Train on voting dataset\n",
    "from scipy.io import arff\n",
    "from sklearn.linear_model import Perceptron\n",
    "import pandas as pd\n",
    "\n",
    "vote_data = arff.loadarff('voting-dataset.arff')\n",
    "vote_data = pd.DataFrame(vote_data[0])\n",
    "l3 = LabelEncoder()\n",
    "vote = vote_data.apply(l3.fit_transform).values\n",
    "mat = vote\n",
    "data = mat[:,:-1]\n",
    "labels = mat[:,-1] \n",
    "clf = Perceptron()\n",
    "clf = clf.fit(data, labels)\n",
    "clf.score(data,labels)\n",
    "\n"
   ]
  },
  {
   "cell_type": "markdown",
   "metadata": {},
   "source": [
    "The two results are the following:\n",
    "Mine: 0.96529284164859\n",
    "Sklearn:0.9609544468546638\n",
    "Based on these results, the Sklearn provided performed slightly better than mine own implementation, with an accuracy difference of around 0.004. But overall the difference is not very significant. Plus, we could be using different hyper-parameters, that can also explain the variance"
   ]
  },
  {
   "cell_type": "markdown",
   "metadata": {},
   "source": [
    "## 4.2 (5%) Use the perceptron algorithm from the [scikit-learn toolkit](https://scikit-learn.org/stable/modules/generated/sklearn.linear_model.Perceptron.html) to learn one other data set of your choice.\n",
    "- Try out some of the hyper-parameters that scikit-learn makes available."
   ]
  },
  {
   "cell_type": "markdown",
   "metadata": {
    "id": "BqSFAXwlk3Ms"
   },
   "source": [
    "While expreimenting with hyper-parametersi concluded the following: When changing tol value to a smaller number it resulted in more accurate solutions but longer training time. max_iter it increases performance with bigger values."
   ]
  },
  {
   "cell_type": "code",
   "execution_count": 241,
   "metadata": {},
   "outputs": [
    {
     "data": {
      "text/plain": [
       "0.9660545353366722"
      ]
     },
     "execution_count": 241,
     "metadata": {},
     "output_type": "execute_result"
    }
   ],
   "source": [
    "# Load sklearn perceptron\n",
    "\n",
    "# Train on your dataset\n",
    "from sklearn.datasets import load_digits\n",
    "from sklearn.linear_model import Perceptron\n",
    "X, y = load_digits(return_X_y=True)\n",
    "clf = Perceptron(tol=1e-3, random_state=2020)\n",
    "clf.fit(X, y)\n",
    "Perceptron()\n",
    "clf.score(X, y)"
   ]
  },
  {
   "cell_type": "markdown",
   "metadata": {
    "id": "cTlK-kijk8Mg"
   },
   "source": [
    "## 5. (Optional 5% extra credit) Use the perceptron rule to learn the [iris task](https://byu.instructure.com/files/4421369/download?download_frd=1) or some other task with more than two possible output values. \n",
    "\n",
    "Note that the [iris data](https://byu.instructure.com/files/4421369/download?download_frd=1) set has 3 output classes, and a perceptron node only has two possible outputs.  You could implement either of the two most common ways to deal with this. For testing you just execute the novel instance on each model and combine the overall results to see which output class wins."
   ]
  }
 ],
 "metadata": {
  "colab": {
   "collapsed_sections": [],
   "name": "lab 1 - perceptron",
   "provenance": []
  },
  "kernelspec": {
   "display_name": "Python 3 (ipykernel)",
   "language": "python",
   "name": "python3"
  },
  "language_info": {
   "codemirror_mode": {
    "name": "ipython",
    "version": 3
   },
   "file_extension": ".py",
   "mimetype": "text/x-python",
   "name": "python",
   "nbconvert_exporter": "python",
   "pygments_lexer": "ipython3",
   "version": "3.9.13"
  }
 },
 "nbformat": 4,
 "nbformat_minor": 4
}
